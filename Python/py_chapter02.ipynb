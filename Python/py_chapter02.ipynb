{
 "cells": [
  {
   "cell_type": "code",
   "execution_count": 1,
   "id": "a5866d26-934b-47c4-8076-29ec0d5f1d38",
   "metadata": {},
   "outputs": [],
   "source": [
    "import arviz as az\n",
    "import matplotlib.pyplot as plt\n",
    "import numpy as np\n",
    "import pymc as pm\n",
    "import scipy.stats as stats"
   ]
  },
  {
   "cell_type": "code",
   "execution_count": 2,
   "id": "5e954396-6fdc-4915-84bb-07ba02675068",
   "metadata": {},
   "outputs": [],
   "source": [
    "%config InlineBackend.figure_format = 'retina'\n",
    "RANDOM_SEED = 8927\n",
    "rng = np.random.default_rng(RANDOM_SEED)\n",
    "az.style.use(\"arviz-darkgrid\")"
   ]
  },
  {
   "cell_type": "code",
   "execution_count": 3,
   "id": "2718463f-1d99-4d3c-97bc-f71a9f85cc9c",
   "metadata": {},
   "outputs": [
    {
     "data": {
      "text/plain": [
       "array([0.  , 0.15, 0.4 , 0.45, 0.  ])"
      ]
     },
     "execution_count": 3,
     "metadata": {},
     "output_type": "execute_result"
    }
   ],
   "source": [
    "# Code 2.1\n",
    "\n",
    "# Ways to produce data (W) from W(ater) or L(and)\n",
    "# 0 = [L L L L]\n",
    "# 1 = [W L L L]\n",
    "# 2 = [W W L L]\n",
    "# 3 = [W W W L]\n",
    "# 4 = [W W W W]\n",
    "ways = np.array([0, 3, 8, 9, 0])\n",
    "ways / ways.sum()"
   ]
  },
  {
   "cell_type": "code",
   "execution_count": 6,
   "id": "b91539f8-7d5d-4efe-b20b-6f39985e0bf2",
   "metadata": {},
   "outputs": [
    {
     "data": {
      "text/plain": [
       "np.float64(0.16406250000000003)"
      ]
     },
     "execution_count": 6,
     "metadata": {},
     "output_type": "execute_result"
    }
   ],
   "source": [
    "# Code 2.2\n",
    "# Probability of six W's in nine tosses\n",
    "picks = 6\n",
    "tosses = 9\n",
    "p = 0.5  # Probability of W\n",
    "stats.binom.pmf(picks, n=tosses, p=p)"
   ]
  },
  {
   "cell_type": "code",
   "execution_count": null,
   "id": "76a895b7-a7bd-46de-ba47-30b5f6221cca",
   "metadata": {},
   "outputs": [],
   "source": []
  }
 ],
 "metadata": {
  "kernelspec": {
   "display_name": "Python 3 (ipykernel)",
   "language": "python",
   "name": "python3"
  },
  "language_info": {
   "codemirror_mode": {
    "name": "ipython",
    "version": 3
   },
   "file_extension": ".py",
   "mimetype": "text/x-python",
   "name": "python",
   "nbconvert_exporter": "python",
   "pygments_lexer": "ipython3",
   "version": "3.12.0"
  }
 },
 "nbformat": 4,
 "nbformat_minor": 5
}
