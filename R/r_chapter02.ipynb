{
  "nbformat": 4,
  "nbformat_minor": 0,
  "metadata": {
    "colab": {
      "provenance": [],
      "authorship_tag": "ABX9TyOXd/sX4AWme77l1buVXkSX",
      "include_colab_link": true
    },
    "kernelspec": {
      "name": "ir",
      "display_name": "R"
    },
    "language_info": {
      "name": "R"
    }
  },
  "cells": [
    {
      "cell_type": "markdown",
      "metadata": {
        "id": "view-in-github",
        "colab_type": "text"
      },
      "source": [
        "<a href=\"https://colab.research.google.com/github/erictleung/statistical-rethinking-book-club/blob/main/R/r_chapter02.ipynb\" target=\"_parent\"><img src=\"https://colab.research.google.com/assets/colab-badge.svg\" alt=\"Open In Colab\"/></a>"
      ]
    },
    {
      "cell_type": "code",
      "execution_count": 1,
      "metadata": {
        "colab": {
          "base_uri": "https://localhost:8080/"
        },
        "id": "mbTVUMDKYtQq",
        "outputId": "7609be7e-32b9-4f52-abde-305df393a23e"
      },
      "outputs": [
        {
          "output_type": "stream",
          "name": "stderr",
          "text": [
            "Installing packages into ‘/usr/local/lib/R/site-library’\n",
            "(as ‘lib’ is unspecified)\n",
            "\n",
            "also installing the dependencies ‘numDeriv’, ‘abind’, ‘tensorA’, ‘distributional’, ‘checkmate’, ‘matrixStats’, ‘posterior’, ‘V8’\n",
            "\n",
            "\n",
            "Downloading GitHub repo rmcelreath/rethinking@HEAD\n",
            "\n"
          ]
        },
        {
          "output_type": "stream",
          "name": "stdout",
          "text": [
            "\n"
          ]
        },
        {
          "output_type": "stream",
          "name": "stderr",
          "text": [
            "Skipping 1 packages not available: cmdstanr\n",
            "\n"
          ]
        },
        {
          "output_type": "stream",
          "name": "stdout",
          "text": [
            "\u001b[36m──\u001b[39m \u001b[36mR CMD build\u001b[39m \u001b[36m─────────────────────────────────────────────────────────────────\u001b[39m\n",
            "* checking for file ‘/tmp/RtmpZfISnE/remotes1484f858198/rmcelreath-rethinking-ac1b3b2/DESCRIPTION’ ... OK\n",
            "* preparing ‘rethinking’:\n",
            "* checking DESCRIPTION meta-information ... OK\n",
            "* checking for LF line-endings in source and make files and shell scripts\n",
            "* checking for empty or unneeded directories\n",
            "* looking to see if a ‘data/datalist’ file should be added\n",
            "* building ‘rethinking_2.42.tar.gz’\n",
            "\n"
          ]
        },
        {
          "output_type": "stream",
          "name": "stderr",
          "text": [
            "Installing package into ‘/usr/local/lib/R/site-library’\n",
            "(as ‘lib’ is unspecified)\n",
            "\n",
            "Warning message in i.p(...):\n",
            "“installation of package ‘/tmp/RtmpZfISnE/file148c40a4d/rethinking_2.42.tar.gz’ had non-zero exit status”\n"
          ]
        }
      ],
      "source": [
        "install.packages(c(\"coda\",\"mvtnorm\",\"devtools\",\"loo\",\"dagitty\",\"shape\"))\n",
        "devtools::install_github(\"rmcelreath/rethinking\")"
      ]
    },
    {
      "cell_type": "code",
      "source": [
        "# Code 2.1\n",
        "\n",
        "# Ways to produce data (W) from W(ater) or L(and)\n",
        "# 0 = [L L L L]\n",
        "# 1 = [W L L L]\n",
        "# 2 = [W W L L]\n",
        "# 3 = [W W W L]\n",
        "# 4 = [W W W W]\n",
        "ways <- c(0, 3, 8, 9, 0)\n",
        "ways / sum(ways)"
      ],
      "metadata": {
        "colab": {
          "base_uri": "https://localhost:8080/",
          "height": 34
        },
        "id": "fyFnKhAgZLie",
        "outputId": "757afe07-77da-4de0-9bab-e2aa115f1c10"
      },
      "execution_count": 2,
      "outputs": [
        {
          "output_type": "display_data",
          "data": {
            "text/html": [
              "<style>\n",
              ".list-inline {list-style: none; margin:0; padding: 0}\n",
              ".list-inline>li {display: inline-block}\n",
              ".list-inline>li:not(:last-child)::after {content: \"\\00b7\"; padding: 0 .5ex}\n",
              "</style>\n",
              "<ol class=list-inline><li>0</li><li>0.15</li><li>0.4</li><li>0.45</li><li>0</li></ol>\n"
            ],
            "text/markdown": "1. 0\n2. 0.15\n3. 0.4\n4. 0.45\n5. 0\n\n\n",
            "text/latex": "\\begin{enumerate*}\n\\item 0\n\\item 0.15\n\\item 0.4\n\\item 0.45\n\\item 0\n\\end{enumerate*}\n",
            "text/plain": [
              "[1] 0.00 0.15 0.40 0.45 0.00"
            ]
          },
          "metadata": {}
        }
      ]
    },
    {
      "cell_type": "code",
      "source": [
        "# Code 2.2\n",
        "\n",
        "dbinom(6, size = 9, prob = 0.5)"
      ],
      "metadata": {
        "colab": {
          "base_uri": "https://localhost:8080/",
          "height": 34
        },
        "id": "v9YDfdoSZjxT",
        "outputId": "41a960fd-3076-4bd8-9db5-c9088babaf6a"
      },
      "execution_count": 3,
      "outputs": [
        {
          "output_type": "display_data",
          "data": {
            "text/html": [
              "0.1640625"
            ],
            "text/markdown": "0.1640625",
            "text/latex": "0.1640625",
            "text/plain": [
              "[1] 0.1640625"
            ]
          },
          "metadata": {}
        }
      ]
    },
    {
      "cell_type": "code",
      "source": [],
      "metadata": {
        "id": "Kvcuq7AcZ_sT"
      },
      "execution_count": null,
      "outputs": []
    }
  ]
}