{
  "nbformat": 4,
  "nbformat_minor": 0,
  "metadata": {
    "colab": {
      "provenance": [],
      "authorship_tag": "ABX9TyOZmAGlHh68L4NAqe2v976J",
      "include_colab_link": true
    },
    "kernelspec": {
      "name": "ir",
      "display_name": "R"
    },
    "language_info": {
      "name": "R"
    }
  },
  "cells": [
    {
      "cell_type": "markdown",
      "metadata": {
        "id": "view-in-github",
        "colab_type": "text"
      },
      "source": [
        "<a href=\"https://colab.research.google.com/github/erictleung/statistical-rethinking-book-club/blob/main/R/r_chapter02.ipynb\" target=\"_parent\"><img src=\"https://colab.research.google.com/assets/colab-badge.svg\" alt=\"Open In Colab\"/></a>"
      ]
    },
    {
      "cell_type": "code",
      "execution_count": 4,
      "metadata": {
        "colab": {
          "base_uri": "https://localhost:8080/"
        },
        "id": "mbTVUMDKYtQq",
        "outputId": "b432dd63-40eb-45ed-d360-b18ba90b377b"
      },
      "outputs": [
        {
          "output_type": "stream",
          "name": "stderr",
          "text": [
            "Installing packages into ‘/usr/local/lib/R/site-library’\n",
            "(as ‘lib’ is unspecified)\n",
            "\n",
            "Installing package into ‘/usr/local/lib/R/site-library’\n",
            "(as ‘lib’ is unspecified)\n",
            "\n",
            "Downloading GitHub repo rmcelreath/rethinking@HEAD\n",
            "\n"
          ]
        },
        {
          "output_type": "stream",
          "name": "stdout",
          "text": [
            "\n"
          ]
        },
        {
          "output_type": "stream",
          "name": "stderr",
          "text": [
            "Skipping 1 packages not available: cmdstanr\n",
            "\n"
          ]
        },
        {
          "output_type": "stream",
          "name": "stdout",
          "text": [
            "\u001b[36m──\u001b[39m \u001b[36mR CMD build\u001b[39m \u001b[36m─────────────────────────────────────────────────────────────────\u001b[39m\n",
            "* checking for file ‘/tmp/RtmpZfISnE/remotes1484aeea3d4/rmcelreath-rethinking-ac1b3b2/DESCRIPTION’ ... OK\n",
            "* preparing ‘rethinking’:\n",
            "* checking DESCRIPTION meta-information ... OK\n",
            "* checking for LF line-endings in source and make files and shell scripts\n",
            "* checking for empty or unneeded directories\n",
            "* looking to see if a ‘data/datalist’ file should be added\n",
            "* building ‘rethinking_2.42.tar.gz’\n",
            "\n"
          ]
        },
        {
          "output_type": "stream",
          "name": "stderr",
          "text": [
            "Installing package into ‘/usr/local/lib/R/site-library’\n",
            "(as ‘lib’ is unspecified)\n",
            "\n"
          ]
        }
      ],
      "source": [
        "# Install supporting packages\n",
        "install.packages(c(\"coda\",\"mvtnorm\",\"devtools\",\"loo\",\"dagitty\",\"shape\"))\n",
        "\n",
        "# Install book specific packages\n",
        "remotes::install_github(\"stan-dev/cmdstanr\")\n",
        "devtools::install_github(\"rmcelreath/rethinking\")"
      ]
    },
    {
      "cell_type": "code",
      "source": [
        "# Code 2.1\n",
        "\n",
        "# Ways to produce data (W) from W(ater) or L(and)\n",
        "# 0 = [L L L L]\n",
        "# 1 = [W L L L]\n",
        "# 2 = [W W L L]\n",
        "# 3 = [W W W L]\n",
        "# 4 = [W W W W]\n",
        "ways <- c(0, 3, 8, 9, 0)  # Ways to make sequence [W, L, W]\n",
        "ways / sum(ways)"
      ],
      "metadata": {
        "colab": {
          "base_uri": "https://localhost:8080/",
          "height": 34
        },
        "id": "fyFnKhAgZLie",
        "outputId": "757afe07-77da-4de0-9bab-e2aa115f1c10"
      },
      "execution_count": 2,
      "outputs": [
        {
          "output_type": "display_data",
          "data": {
            "text/html": [
              "<style>\n",
              ".list-inline {list-style: none; margin:0; padding: 0}\n",
              ".list-inline>li {display: inline-block}\n",
              ".list-inline>li:not(:last-child)::after {content: \"\\00b7\"; padding: 0 .5ex}\n",
              "</style>\n",
              "<ol class=list-inline><li>0</li><li>0.15</li><li>0.4</li><li>0.45</li><li>0</li></ol>\n"
            ],
            "text/markdown": "1. 0\n2. 0.15\n3. 0.4\n4. 0.45\n5. 0\n\n\n",
            "text/latex": "\\begin{enumerate*}\n\\item 0\n\\item 0.15\n\\item 0.4\n\\item 0.45\n\\item 0\n\\end{enumerate*}\n",
            "text/plain": [
              "[1] 0.00 0.15 0.40 0.45 0.00"
            ]
          },
          "metadata": {}
        }
      ]
    },
    {
      "cell_type": "code",
      "source": [
        "# Code 2.2\n",
        "\n",
        "# Likelihood of data of six W's in nine tosses\n",
        "# Binomial distribution https://en.wikipedia.org/wiki/Binomial_distribution\n",
        "dbinom(6, size = 9, prob = 0.5)"
      ],
      "metadata": {
        "colab": {
          "base_uri": "https://localhost:8080/",
          "height": 34
        },
        "id": "v9YDfdoSZjxT",
        "outputId": "41a960fd-3076-4bd8-9db5-c9088babaf6a"
      },
      "execution_count": 3,
      "outputs": [
        {
          "output_type": "display_data",
          "data": {
            "text/html": [
              "0.1640625"
            ],
            "text/markdown": "0.1640625",
            "text/latex": "0.1640625",
            "text/plain": [
              "[1] 0.1640625"
            ]
          },
          "metadata": {}
        }
      ]
    },
    {
      "cell_type": "code",
      "source": [
        "# Code 2.3\n",
        "\n",
        "# Grid approximation to approximate estimating a continous posterior\n",
        "# distribution\n",
        "\n",
        "# Define grid\n",
        "p_grid <- seq(from = 0, to = 1, length.out = 20)\n",
        "message(\"p_grid:\")\n",
        "print(p_grid)\n",
        "\n",
        "# Define prior\n",
        "prior <- rep(1, 20)\n",
        "message(\"prior\")\n",
        "print(prior)\n",
        "\n",
        "# Compute likelihood at each value in grid\n",
        "likelihood <- dbinom(6, size = 9, prob = p_grid)\n",
        "message(\"likelihood:\")\n",
        "print(likelihood)\n",
        "\n",
        "# Compute product of likliehood and prior\n",
        "unstd_posterior <- likelihood * prior\n",
        "\n",
        "# Standardize the posterior, so it sums to 1\n",
        "posterior <- unstd_posterior / sum(unstd_posterior)"
      ],
      "metadata": {
        "colab": {
          "base_uri": "https://localhost:8080/"
        },
        "id": "Kvcuq7AcZ_sT",
        "outputId": "a875d4ed-f504-4261-cff6-c10281348a93"
      },
      "execution_count": 14,
      "outputs": [
        {
          "output_type": "stream",
          "name": "stderr",
          "text": [
            "p_grid:\n",
            "\n"
          ]
        },
        {
          "output_type": "stream",
          "name": "stdout",
          "text": [
            " [1] 0.00000000 0.05263158 0.10526316 0.15789474 0.21052632 0.26315789\n",
            " [7] 0.31578947 0.36842105 0.42105263 0.47368421 0.52631579 0.57894737\n",
            "[13] 0.63157895 0.68421053 0.73684211 0.78947368 0.84210526 0.89473684\n",
            "[19] 0.94736842 1.00000000\n"
          ]
        },
        {
          "output_type": "stream",
          "name": "stderr",
          "text": [
            "prior\n",
            "\n"
          ]
        },
        {
          "output_type": "stream",
          "name": "stdout",
          "text": [
            " [1] 1 1 1 1 1 1 1 1 1 1 1 1 1 1 1 1 1 1 1 1\n"
          ]
        },
        {
          "output_type": "stream",
          "name": "stderr",
          "text": [
            "likelihood:\n",
            "\n"
          ]
        },
        {
          "output_type": "stream",
          "name": "stdout",
          "text": [
            " [1] 0.000000e+00 1.518149e-06 8.185093e-05 7.772923e-04 3.598575e-03\n",
            " [6] 1.116095e-02 2.668299e-02 5.292110e-02 9.082698e-02 1.383413e-01\n",
            "[11] 1.897686e-01 2.361147e-01 2.666113e-01 2.714006e-01 2.450051e-01\n",
            "[16] 1.897686e-01 1.179181e-01 5.026670e-02 8.853845e-03 0.000000e+00\n"
          ]
        }
      ]
    },
    {
      "cell_type": "code",
      "source": [
        "# Code 2.4\n",
        "plot(\n",
        "  p_grid,\n",
        "  posterior,\n",
        "  type = \"b\",\n",
        "  xlab = \"Probability of water\",\n",
        "  ylab = \"Posterior probability\"\n",
        ")\n",
        "mtext(\"20 points\")"
      ],
      "metadata": {
        "colab": {
          "base_uri": "https://localhost:8080/",
          "height": 437
        },
        "id": "mQteBC3NkYtm",
        "outputId": "79f8a195-c6ca-44f8-ab17-32b17de86679"
      },
      "execution_count": 17,
      "outputs": [
        {
          "output_type": "display_data",
          "data": {
            "text/plain": [
              "plot without title"
            ],
            "image/png": "[encoded data removed]"
          },
          "metadata": {
            "image/png": {
              "width": 420,
              "height": 420
            }
          }
        }
      ]
    }
  ]
}